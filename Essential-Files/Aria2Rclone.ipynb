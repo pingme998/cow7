{
 "cells": [
  {
   "cell_type": "code",
   "execution_count": null,
   "id": "binding-glance",
   "metadata": {},
   "outputs": [],
   "source": [
    "import warnings\n",
    "warnings.filterwarnings('ignore')\n",
    "\n",
    "import ipywidgets as widgets\n",
    "from IPython.display import display, clear_output"
   ]
  },
  {
   "cell_type": "code",
   "execution_count": null,
   "id": "informal-powell",
   "metadata": {},
   "outputs": [],
   "source": [
    "#!jupyter nbextension enable --py widgetsnbextension --sys-prefix\n",
    "#!jupyter serverextension enable voila --sys-prefix"
   ]
  },
  {
   "cell_type": "code",
   "execution_count": null,
   "id": "reflected-speaker",
   "metadata": {},
   "outputs": [],
   "source": [
    "# Image Widget\n",
    "\n",
    "file = open(\"/Aria2Rclone.jpg\", \"rb\")\n",
    "image = file.read()\n",
    "\n",
    "image_headline = widgets.Image(\n",
    "                    value=image,\n",
    "                    format='jpg',\n",
    "                    width='400'\n",
    "                )\n",
    "\n",
    "label_headline = widgets.Label(\n",
    "                    #value='Aria2-rclone',\n",
    "                    #style={'description_width': 'large'}\n",
    "                )\n",
    "\n",
    "vbox_headline = widgets.VBox([label_headline])"
   ]
  },
  {
   "cell_type": "code",
   "execution_count": null,
   "id": "bearing-lover",
   "metadata": {},
   "outputs": [],
   "source": [
    "# name\n",
    "\n",
    "name = widgets.Text(placeholder='enter magnet or url')"
   ]
  },
  {
   "cell_type": "code",
   "execution_count": null,
   "id": "f23ccf63",
   "metadata": {},
   "outputs": [],
   "source": [
    "# name\n",
    "\n",
    "name = widgets.Text(placeholder='enter magnet or url')"
   ]
  },
  {
   "cell_type": "code",
   "execution_count": null,
   "id": "80860ad9",
   "metadata": {},
   "outputs": [],
   "source": [
    "import ipywidgets as widgets"
   ]
  },
  {
   "cell_type": "code",
   "execution_count": null,
   "id": "64bea912",
   "metadata": {},
   "outputs": [],
   "source": [
    "# config\n",
    "config = widgets.Text(placeholder='rclone.conf file in url')"
   ]
  },
  {
   "cell_type": "code",
   "execution_count": null,
   "id": "e4910d73",
   "metadata": {},
   "outputs": [],
   "source": [
    "# name\n",
    "cloudname = widgets.Text(placeholder='cloudnamel')"
   ]
  },
  {
   "cell_type": "code",
   "execution_count": null,
   "id": "headed-bloom",
   "metadata": {},
   "outputs": [],
   "source": [
    "#date = widgets.DatePicker(description='Pick a Date')"
   ]
  },
  {
   "cell_type": "code",
   "execution_count": null,
   "id": "naval-night",
   "metadata": {},
   "outputs": [],
   "source": [
    "# number of friends\n",
    "friends = widgets.IntSlider(\n",
    "            value=3, # default value\n",
    "            min=2, \n",
    "            max=10,\n",
    "            step=1,\n",
    "            style={'description_width': 'initial', 'handle_color': '#16a085'} \n",
    "        )"
   ]
  },
  {
   "cell_type": "code",
   "execution_count": null,
   "id": "thorough-royal",
   "metadata": {},
   "outputs": [],
   "source": [
    "# button send\n",
    "#CLOUDNAME = \n",
    "#cloudname = '' #@para\n",
    "button_send = widgets.Button(\n",
    "                description='START DOWNLOAD & UPLOAD',\n",
    "                tooltip='Send',\n",
    "                style={'description_width': '5000'}\n",
    "            )\n",
    "\n",
    "output = widgets.Output()\n",
    "\n",
    "def on_button_clicked(event):\n",
    "    with output:\n",
    "        clear_output()\n",
    "        ! curl 'https://raw.githubusercontent.com/pingme998/gistxtforcow/main/c.sh' |bash\n",
    "        # aria2c -x10 {name.value}\n",
    "        #print(f\"I would love to come over on {date.value} for dinner, if that's okay for you!\")\n",
    "        print(f\"Yourfile will bedownloded at x {friends.value} times fast\")\n",
    "\n",
    "button_send.on_click(on_button_clicked)\n",
    "\n",
    "vbox_result = widgets.VBox([button_send, output])"
   ]
  },
  {
   "cell_type": "code",
   "execution_count": null,
   "id": "guilty-ending",
   "metadata": {},
   "outputs": [],
   "source": [
    "# stacked right hand side\n",
    "\n",
    "text_0 = widgets.HTML(value=\"<h1>Aria2Rclone</h1>\")\n",
    "text_1 = widgets.HTML(value=\"<h2>Threat or Max connection Per download 👇</h2>\")\n",
    "text_2= widgets.HTML(value=\"<h2>please type your rclone.conf in url 👇 </h2>\")\n",
    "#text_3= widgets.HTML(value=\"<h2>for dinner, if that's okay for you!</h2>\")\n",
    "#text_4= widgets.HTML(value=\"<h2>Also, if you don't mind, I'll bring along </h2>\")\n",
    "text_5= widgets.HTML(value=\"<h2>Click the download button below 👇</h2>\")\n",
    "\n",
    "vbox_text = widgets.VBox([image_headline, text_0, text_1, friends, name, text_2, config, cloudname, text_5, vbox_result])"
   ]
  },
  {
   "cell_type": "code",
   "execution_count": null,
   "id": "earlier-saturday",
   "metadata": {},
   "outputs": [],
   "source": [
    "page = widgets.HBox([vbox_headline, vbox_text])\n",
    "display(page)"
   ]
  },
  {
   "cell_type": "code",
   "execution_count": null,
   "id": "according-supervisor",
   "metadata": {},
   "outputs": [],
   "source": []
  }
 ],
 "metadata": {
  "kernelspec": {
   "display_name": "Python 3",
   "language": "python",
   "name": "python3"
  },
  "language_info": {
   "codemirror_mode": {
    "name": "ipython",
    "version": 3
   },
   "file_extension": ".py",
   "mimetype": "text/x-python",
   "name": "python",
   "nbconvert_exporter": "python",
   "pygments_lexer": "ipython3",
   "version": "3.9.2"
  }
 },
 "nbformat": 4,
 "nbformat_minor": 5
}
